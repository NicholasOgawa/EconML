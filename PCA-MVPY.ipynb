{
 "cells": [
  {
   "cell_type": "markdown",
   "metadata": {},
   "source": [
    "# PCA and the relationship with MV = PY\n",
    "\n",
    "\n",
    "### Lessons to cover and objectives:\n",
    "\n",
    "- Monetarist Economic Theory (MV = PY function)\n",
    "- Simple Data Wrangling\n",
    "- Time Series Visualizations\n",
    "- PCA \n",
    "- Biplot interpretations\n",
    "\n",
    "I am not going to conduct any cross validation, this is an interpretibility exploration of economic theory applying Machine Learning theory. \n",
    "\n",
    "I conducted this experiment because of the recent price debasement argument since money supply injections by the central bank are reaching all time highs, as you'll note in the data. "
   ]
  },
  {
   "cell_type": "code",
   "execution_count": 177,
   "metadata": {},
   "outputs": [],
   "source": [
    "import pandas as pd\n",
    "import os\n",
    "from plotly import express\n",
    "import datetime as dt\n",
    "import numpy as np\n",
    "\n",
    "%matplotlib inline\n",
    "import matplotlib.pyplot as plt\n"
   ]
  },
  {
   "cell_type": "code",
   "execution_count": 190,
   "metadata": {},
   "outputs": [
    {
     "data": {
      "text/plain": [
       "'/Users/nicoogawa/Documents/Data/MVPY'"
      ]
     },
     "execution_count": 190,
     "metadata": {},
     "output_type": "execute_result"
    }
   ],
   "source": [
    "os.getcwd()"
   ]
  },
  {
   "cell_type": "code",
   "execution_count": 192,
   "metadata": {},
   "outputs": [
    {
     "data": {
      "text/plain": [
       "['CPI.csv', 'GDPC1.csv', 'M2V.csv', 'M2SL.csv']"
      ]
     },
     "execution_count": 192,
     "metadata": {},
     "output_type": "execute_result"
    }
   ],
   "source": [
    "path = '/Users/nicoogawa/Documents/Data/MVPY/data'\n",
    "# Make sure to not hardtype\n",
    "os.chdir(path)\n",
    "\n",
    "csvlist = os.listdir(path)\n",
    "csvlist"
   ]
  },
  {
   "cell_type": "markdown",
   "metadata": {},
   "source": [
    "All of the data gathered here was from FRED. I have converted everything into similar date formats (Quarterly)"
   ]
  },
  {
   "cell_type": "code",
   "execution_count": 193,
   "metadata": {},
   "outputs": [
    {
     "data": {
      "text/html": [
       "<div>\n",
       "<style scoped>\n",
       "    .dataframe tbody tr th:only-of-type {\n",
       "        vertical-align: middle;\n",
       "    }\n",
       "\n",
       "    .dataframe tbody tr th {\n",
       "        vertical-align: top;\n",
       "    }\n",
       "\n",
       "    .dataframe thead th {\n",
       "        text-align: right;\n",
       "    }\n",
       "</style>\n",
       "<table border=\"1\" class=\"dataframe\">\n",
       "  <thead>\n",
       "    <tr style=\"text-align: right;\">\n",
       "      <th></th>\n",
       "      <th>CPIAUCSL</th>\n",
       "      <th>GDPC1</th>\n",
       "      <th>M2V</th>\n",
       "      <th>M2SL</th>\n",
       "    </tr>\n",
       "    <tr>\n",
       "      <th>DATE</th>\n",
       "      <th></th>\n",
       "      <th></th>\n",
       "      <th></th>\n",
       "      <th></th>\n",
       "    </tr>\n",
       "  </thead>\n",
       "  <tbody>\n",
       "    <tr>\n",
       "      <th>1959-01-01</th>\n",
       "      <td>28.9933333333333333</td>\n",
       "      <td>3121.936</td>\n",
       "      <td>1.773</td>\n",
       "      <td>287.8333333333333333</td>\n",
       "    </tr>\n",
       "    <tr>\n",
       "      <th>1959-04-01</th>\n",
       "      <td>29.0433333333333333</td>\n",
       "      <td>3192.380</td>\n",
       "      <td>1.789</td>\n",
       "      <td>292.1333333333333333</td>\n",
       "    </tr>\n",
       "    <tr>\n",
       "      <th>1959-07-01</th>\n",
       "      <td>29.1933333333333333</td>\n",
       "      <td>3194.653</td>\n",
       "      <td>1.773</td>\n",
       "      <td>296.1000000000000000</td>\n",
       "    </tr>\n",
       "    <tr>\n",
       "      <th>1959-10-01</th>\n",
       "      <td>29.3700000000000000</td>\n",
       "      <td>3203.759</td>\n",
       "      <td>1.779</td>\n",
       "      <td>297.1333333333333333</td>\n",
       "    </tr>\n",
       "    <tr>\n",
       "      <th>1960-01-01</th>\n",
       "      <td>29.3966666666666667</td>\n",
       "      <td>3275.757</td>\n",
       "      <td>1.817</td>\n",
       "      <td>298.7000000000000000</td>\n",
       "    </tr>\n",
       "    <tr>\n",
       "      <th>...</th>\n",
       "      <td>...</td>\n",
       "      <td>...</td>\n",
       "      <td>...</td>\n",
       "      <td>...</td>\n",
       "    </tr>\n",
       "    <tr>\n",
       "      <th>2019-04-01</th>\n",
       "      <td>255.1706666666666667</td>\n",
       "      <td>19020.599</td>\n",
       "      <td>1.454</td>\n",
       "      <td>14665.200000000000</td>\n",
       "    </tr>\n",
       "    <tr>\n",
       "      <th>2019-07-01</th>\n",
       "      <td>256.3246666666666667</td>\n",
       "      <td>19141.744</td>\n",
       "      <td>1.442</td>\n",
       "      <td>14939.433333333333</td>\n",
       "    </tr>\n",
       "    <tr>\n",
       "      <th>2019-10-01</th>\n",
       "      <td>257.8323333333333333</td>\n",
       "      <td>19253.959</td>\n",
       "      <td>1.427</td>\n",
       "      <td>15236.033333333333</td>\n",
       "    </tr>\n",
       "    <tr>\n",
       "      <th>2020-01-01</th>\n",
       "      <td>258.6076666666666667</td>\n",
       "      <td>19010.848</td>\n",
       "      <td>1.381</td>\n",
       "      <td>15612.966666666667</td>\n",
       "    </tr>\n",
       "    <tr>\n",
       "      <th>2020-04-01</th>\n",
       "      <td>256.2946666666666667</td>\n",
       "      <td>17205.822</td>\n",
       "      <td>1.097</td>\n",
       "      <td>17685.966666666667</td>\n",
       "    </tr>\n",
       "  </tbody>\n",
       "</table>\n",
       "<p>246 rows × 4 columns</p>\n",
       "</div>"
      ],
      "text/plain": [
       "                        CPIAUCSL      GDPC1    M2V                  M2SL\n",
       "DATE                                                                    \n",
       "1959-01-01   28.9933333333333333   3121.936  1.773  287.8333333333333333\n",
       "1959-04-01   29.0433333333333333   3192.380  1.789  292.1333333333333333\n",
       "1959-07-01   29.1933333333333333   3194.653  1.773  296.1000000000000000\n",
       "1959-10-01   29.3700000000000000   3203.759  1.779  297.1333333333333333\n",
       "1960-01-01   29.3966666666666667   3275.757  1.817  298.7000000000000000\n",
       "...                          ...        ...    ...                   ...\n",
       "2019-04-01  255.1706666666666667  19020.599  1.454    14665.200000000000\n",
       "2019-07-01  256.3246666666666667  19141.744  1.442    14939.433333333333\n",
       "2019-10-01  257.8323333333333333  19253.959  1.427    15236.033333333333\n",
       "2020-01-01  258.6076666666666667  19010.848  1.381    15612.966666666667\n",
       "2020-04-01  256.2946666666666667  17205.822  1.097    17685.966666666667\n",
       "\n",
       "[246 rows x 4 columns]"
      ]
     },
     "execution_count": 193,
     "metadata": {},
     "output_type": "execute_result"
    }
   ],
   "source": [
    "df = pd.read_csv('CPI.csv', index_col = 'DATE')\n",
    "df.index = pd.to_datetime(df.index)\n",
    "\n",
    "for csvfile in csvlist[1:]:\n",
    "    dfnew = pd.read_csv(csvfile, index_col = 'DATE')\n",
    "    dfnew.index = pd.to_datetime(dfnew.index)\n",
    "    df = pd.merge(df, dfnew, on = \"DATE\")\n",
    "    \n",
    "df"
   ]
  },
  {
   "cell_type": "markdown",
   "metadata": {},
   "source": [
    "Always check the datatypes. We need to do two transformations the dataset. Firstly, we need to normalize the data when using PCA. A feature about PCA is that un-normalized data will lead to an algorithm where the highest variance feature will be weighted the largest in the principal component scores. If this assumption does not hold for your data, normalize the data. Although observing the data loses a bit of its interpretability from first glance, it still offers some key insights. \n",
    "\n",
    "\n",
    "So lets first put the data into percentile terms before we normalize it. Since each observation depends on the previous observation(the money supply this year depends on last year's money supply), we need to first take the rate of change to ensure the mean of each feature is appropriately calculated. "
   ]
  },
  {
   "cell_type": "code",
   "execution_count": null,
   "metadata": {},
   "outputs": [],
   "source": [
    "df.dtypes"
   ]
  },
  {
   "cell_type": "code",
   "execution_count": null,
   "metadata": {},
   "outputs": [],
   "source": [
    "# Change data types\n",
    "df['CPIAUCSL'] = df['CPIAUCSL'].astype('float')\n",
    "df['M2SL'] = df['M2SL'].astype('float')"
   ]
  },
  {
   "cell_type": "code",
   "execution_count": null,
   "metadata": {},
   "outputs": [],
   "source": [
    "df = df.pct_change()\n",
    "# This will always leave you with the first row as na\n",
    "df = df.dropna()"
   ]
  },
  {
   "cell_type": "code",
   "execution_count": null,
   "metadata": {},
   "outputs": [],
   "source": [
    "df.columns = ['Pct_Infl', 'Pct_GDP', 'Pct_Vel', 'Pct_M2']"
   ]
  },
  {
   "cell_type": "code",
   "execution_count": null,
   "metadata": {},
   "outputs": [],
   "source": [
    "df.dtypes"
   ]
  },
  {
   "cell_type": "markdown",
   "metadata": {},
   "source": [
    "I'll do a bit of EDA. A couple plots may help us visualize "
   ]
  },
  {
   "cell_type": "code",
   "execution_count": null,
   "metadata": {},
   "outputs": [],
   "source": [
    "sn.heatmap(df.corr(), annot=True)\n",
    "plt.show()"
   ]
  },
  {
   "cell_type": "code",
   "execution_count": 1,
   "metadata": {},
   "outputs": [
    {
     "ename": "NameError",
     "evalue": "name 'plt' is not defined",
     "output_type": "error",
     "traceback": [
      "\u001b[0;31m---------------------------------------------------------------------------\u001b[0m",
      "\u001b[0;31mNameError\u001b[0m                                 Traceback (most recent call last)",
      "\u001b[0;32m<ipython-input-1-35d737598bcd>\u001b[0m in \u001b[0;36m<module>\u001b[0;34m\u001b[0m\n\u001b[1;32m      1\u001b[0m \u001b[0;32mimport\u001b[0m \u001b[0mseaborn\u001b[0m \u001b[0;32mas\u001b[0m \u001b[0msns\u001b[0m\u001b[0;34m\u001b[0m\u001b[0;34m\u001b[0m\u001b[0m\n\u001b[0;32m----> 2\u001b[0;31m \u001b[0mf\u001b[0m\u001b[0;34m,\u001b[0m \u001b[0maxes\u001b[0m \u001b[0;34m=\u001b[0m \u001b[0mplt\u001b[0m\u001b[0;34m.\u001b[0m\u001b[0msubplots\u001b[0m\u001b[0;34m(\u001b[0m\u001b[0;36m2\u001b[0m\u001b[0;34m,\u001b[0m \u001b[0;36m1\u001b[0m\u001b[0;34m,\u001b[0m \u001b[0mfigsize\u001b[0m\u001b[0;34m=\u001b[0m\u001b[0;34m(\u001b[0m\u001b[0;36m15\u001b[0m\u001b[0;34m,\u001b[0m \u001b[0;36m10\u001b[0m\u001b[0;34m)\u001b[0m\u001b[0;34m)\u001b[0m\u001b[0;34m\u001b[0m\u001b[0;34m\u001b[0m\u001b[0m\n\u001b[0m\u001b[1;32m      3\u001b[0m \u001b[0mplt\u001b[0m\u001b[0;34m.\u001b[0m\u001b[0mset_xticks\u001b[0m\u001b[0;34m(\u001b[0m\u001b[0mnp\u001b[0m\u001b[0;34m.\u001b[0m\u001b[0marange\u001b[0m\u001b[0;34m(\u001b[0m\u001b[0;34m-\u001b[0m\u001b[0;36m0.25\u001b[0m\u001b[0;34m,\u001b[0m \u001b[0;36m0.25\u001b[0m\u001b[0;34m,\u001b[0m \u001b[0;36m0.02\u001b[0m\u001b[0;34m)\u001b[0m\u001b[0;34m)\u001b[0m\u001b[0;34m;\u001b[0m\u001b[0;34m\u001b[0m\u001b[0;34m\u001b[0m\u001b[0m\n\u001b[1;32m      4\u001b[0m \u001b[0;34m\u001b[0m\u001b[0m\n\u001b[1;32m      5\u001b[0m \u001b[0msns\u001b[0m\u001b[0;34m.\u001b[0m\u001b[0mdistplot\u001b[0m\u001b[0;34m(\u001b[0m \u001b[0mdf\u001b[0m\u001b[0;34m[\u001b[0m\u001b[0;34m\"Pct_Infl\"\u001b[0m\u001b[0;34m]\u001b[0m \u001b[0;34m,\u001b[0m \u001b[0mcolor\u001b[0m\u001b[0;34m=\u001b[0m\u001b[0;34m\"skyblue\"\u001b[0m\u001b[0;34m,\u001b[0m \u001b[0mlabel\u001b[0m\u001b[0;34m=\u001b[0m\u001b[0;34m\"Inflation\"\u001b[0m\u001b[0;34m,\u001b[0m\u001b[0max\u001b[0m\u001b[0;34m=\u001b[0m\u001b[0maxes\u001b[0m\u001b[0;34m[\u001b[0m\u001b[0;36m0\u001b[0m\u001b[0;34m]\u001b[0m\u001b[0;34m)\u001b[0m\u001b[0;34m\u001b[0m\u001b[0;34m\u001b[0m\u001b[0m\n",
      "\u001b[0;31mNameError\u001b[0m: name 'plt' is not defined"
     ]
    }
   ],
   "source": [
    "import seaborn as sns\n",
    "f, axes = plt.subplots(2, 1, figsize=(15, 10))\n",
    "plt.(np.arange(-0.25, 0.25, 0.02)); \n",
    "\n",
    "sns.distplot( df[\"Pct_Infl\"] , color=\"skyblue\", label=\"Inflation\",ax=axes[0])\n",
    "sns.distplot( df[\"Pct_GDP\"] , color=\"red\", label=\"Growth\",ax=axes[0])\n",
    "sns.distplot( df[\"Pct_M2\"] , color=\"green\", label=\"%△M2\",ax=axes[1])\n",
    "sns.distplot( df[\"Pct_Vel\"] , color=\"orange\", label=\"%△V\",ax=axes[1])\n",
    "\n",
    "axes[0].legend()\n",
    "axes[1].legend()\n",
    "\n",
    "axes[0].set_xlabel('%△P and %△Y');\n",
    "axes[1].set_xlabel('%△M2 and %△V');\n"
   ]
  },
  {
   "cell_type": "markdown",
   "metadata": {},
   "source": [
    "I don't want to bore anyone with distribution jargon, but all the distributions look relatively normal. But there are couple things worth noting, \n",
    "\n",
    "1. The left tail of Velocity has some sicnificant outliers\n",
    "2. The right tail of M2 has some sicnifigant outliers (I smell Quantitative Easing)"
   ]
  },
  {
   "cell_type": "markdown",
   "metadata": {},
   "source": [
    "- Essentially, using MV = PY. You can do a very common maneuver in economics, put both sides in log form and take the derivative. This process will leave you with the equation of:\n",
    "\n",
    "\n",
    "### %△M + %△P = %△V + %△Y\n",
    "\n",
    "- Alright, lets see if this empirically holds."
   ]
  },
  {
   "cell_type": "markdown",
   "metadata": {},
   "source": [
    "### The relationship of %△M + %△P = %△V + %△Y"
   ]
  },
  {
   "cell_type": "code",
   "execution_count": 158,
   "metadata": {},
   "outputs": [
    {
     "data": {
      "image/png": "[encoded data removed]",
      "text/plain": [
       "<Figure size 1440x720 with 1 Axes>"
      ]
     },
     "metadata": {
      "needs_background": "light"
     },
     "output_type": "display_data"
    }
   ],
   "source": [
    "dfpc = pd.DataFrame()\n",
    "\n",
    "plt.figure(figsize=(20,10));\n",
    "dfpc['dM+dV'] = df.Pct_M2 + df.Pct_Vel \n",
    "dfpc['dP+dY'] = df.Pct_GDP + df.Pct_Infl \n",
    "plt.plot(dfpc)\n",
    "plt.legend(dfpc); "
   ]
  },
  {
   "cell_type": "markdown",
   "metadata": {},
   "source": [
    "Pretty impressive, the theory is accurate from first glance. Let's look for outliers where the deviations from the equation exceed a 1% threshold"
   ]
  },
  {
   "cell_type": "code",
   "execution_count": 173,
   "metadata": {},
   "outputs": [
    {
     "data": {
      "text/html": [
       "<div>\n",
       "<style scoped>\n",
       "    .dataframe tbody tr th:only-of-type {\n",
       "        vertical-align: middle;\n",
       "    }\n",
       "\n",
       "    .dataframe tbody tr th {\n",
       "        vertical-align: top;\n",
       "    }\n",
       "\n",
       "    .dataframe thead th {\n",
       "        text-align: right;\n",
       "    }\n",
       "</style>\n",
       "<table border=\"1\" class=\"dataframe\">\n",
       "  <thead>\n",
       "    <tr style=\"text-align: right;\">\n",
       "      <th></th>\n",
       "      <th>dM+dV</th>\n",
       "      <th>dP+dY</th>\n",
       "    </tr>\n",
       "    <tr>\n",
       "      <th>DATE</th>\n",
       "      <th></th>\n",
       "      <th></th>\n",
       "    </tr>\n",
       "  </thead>\n",
       "  <tbody>\n",
       "    <tr>\n",
       "      <th>1974-01-01</th>\n",
       "      <td>2.010402</td>\n",
       "      <td>2.021156</td>\n",
       "    </tr>\n",
       "    <tr>\n",
       "      <th>1979-10-01</th>\n",
       "      <td>2.020836</td>\n",
       "      <td>2.034161</td>\n",
       "    </tr>\n",
       "    <tr>\n",
       "      <th>1980-01-01</th>\n",
       "      <td>2.023985</td>\n",
       "      <td>2.042602</td>\n",
       "    </tr>\n",
       "    <tr>\n",
       "      <th>1980-04-01</th>\n",
       "      <td>2.003105</td>\n",
       "      <td>2.013136</td>\n",
       "    </tr>\n",
       "    <tr>\n",
       "      <th>2008-10-01</th>\n",
       "      <td>1.982966</td>\n",
       "      <td>1.955460</td>\n",
       "    </tr>\n",
       "    <tr>\n",
       "      <th>2020-04-01</th>\n",
       "      <td>1.927126</td>\n",
       "      <td>1.896109</td>\n",
       "    </tr>\n",
       "  </tbody>\n",
       "</table>\n",
       "</div>"
      ],
      "text/plain": [
       "               dM+dV     dP+dY\n",
       "DATE                          \n",
       "1974-01-01  2.010402  2.021156\n",
       "1979-10-01  2.020836  2.034161\n",
       "1980-01-01  2.023985  2.042602\n",
       "1980-04-01  2.003105  2.013136\n",
       "2008-10-01  1.982966  1.955460\n",
       "2020-04-01  1.927126  1.896109"
      ]
     },
     "execution_count": 173,
     "metadata": {},
     "output_type": "execute_result"
    }
   ],
   "source": [
    "spread = dfpc[abs(dfpc['dM+dV'] - dfpc['dP+dY']) > 0.01]\n",
    "spread "
   ]
  },
  {
   "cell_type": "markdown",
   "metadata": {},
   "source": [
    "Worth noting, I had made the dataframe names for this just dP, dY, dM, dY. This is not to be confused with the differential of this equation"
   ]
  },
  {
   "cell_type": "code",
   "execution_count": 31,
   "metadata": {},
   "outputs": [
    {
     "data": {
      "text/html": [
       "<div>\n",
       "<style scoped>\n",
       "    .dataframe tbody tr th:only-of-type {\n",
       "        vertical-align: middle;\n",
       "    }\n",
       "\n",
       "    .dataframe tbody tr th {\n",
       "        vertical-align: top;\n",
       "    }\n",
       "\n",
       "    .dataframe thead th {\n",
       "        text-align: right;\n",
       "    }\n",
       "</style>\n",
       "<table border=\"1\" class=\"dataframe\">\n",
       "  <thead>\n",
       "    <tr style=\"text-align: right;\">\n",
       "      <th></th>\n",
       "      <th>Pct_Infl</th>\n",
       "      <th>Pct_GDP</th>\n",
       "      <th>Pct_Vel</th>\n",
       "      <th>Pct_M2</th>\n",
       "    </tr>\n",
       "    <tr>\n",
       "      <th>DATE</th>\n",
       "      <th></th>\n",
       "      <th></th>\n",
       "      <th></th>\n",
       "      <th></th>\n",
       "    </tr>\n",
       "  </thead>\n",
       "  <tbody>\n",
       "    <tr>\n",
       "      <th>1959-04-01</th>\n",
       "      <td>0.001725</td>\n",
       "      <td>0.022564</td>\n",
       "      <td>0.009024</td>\n",
       "      <td>0.014939</td>\n",
       "    </tr>\n",
       "    <tr>\n",
       "      <th>1959-07-01</th>\n",
       "      <td>0.005165</td>\n",
       "      <td>0.000712</td>\n",
       "      <td>-0.008944</td>\n",
       "      <td>0.013578</td>\n",
       "    </tr>\n",
       "    <tr>\n",
       "      <th>1959-10-01</th>\n",
       "      <td>0.006052</td>\n",
       "      <td>0.002850</td>\n",
       "      <td>0.003384</td>\n",
       "      <td>0.003490</td>\n",
       "    </tr>\n",
       "    <tr>\n",
       "      <th>1960-01-01</th>\n",
       "      <td>0.000908</td>\n",
       "      <td>0.022473</td>\n",
       "      <td>0.021360</td>\n",
       "      <td>0.005273</td>\n",
       "    </tr>\n",
       "    <tr>\n",
       "      <th>1960-04-01</th>\n",
       "      <td>0.006010</td>\n",
       "      <td>-0.005394</td>\n",
       "      <td>-0.011007</td>\n",
       "      <td>0.008035</td>\n",
       "    </tr>\n",
       "    <tr>\n",
       "      <th>...</th>\n",
       "      <td>...</td>\n",
       "      <td>...</td>\n",
       "      <td>...</td>\n",
       "      <td>...</td>\n",
       "    </tr>\n",
       "    <tr>\n",
       "      <th>2019-04-01</th>\n",
       "      <td>0.007483</td>\n",
       "      <td>0.003707</td>\n",
       "      <td>-0.003427</td>\n",
       "      <td>0.013474</td>\n",
       "    </tr>\n",
       "    <tr>\n",
       "      <th>2019-07-01</th>\n",
       "      <td>0.004522</td>\n",
       "      <td>0.006369</td>\n",
       "      <td>-0.008253</td>\n",
       "      <td>0.018700</td>\n",
       "    </tr>\n",
       "    <tr>\n",
       "      <th>2019-10-01</th>\n",
       "      <td>0.005882</td>\n",
       "      <td>0.005862</td>\n",
       "      <td>-0.010402</td>\n",
       "      <td>0.019853</td>\n",
       "    </tr>\n",
       "    <tr>\n",
       "      <th>2020-01-01</th>\n",
       "      <td>0.003007</td>\n",
       "      <td>-0.012627</td>\n",
       "      <td>-0.032235</td>\n",
       "      <td>0.024740</td>\n",
       "    </tr>\n",
       "    <tr>\n",
       "      <th>2020-04-01</th>\n",
       "      <td>-0.008944</td>\n",
       "      <td>-0.094947</td>\n",
       "      <td>-0.205648</td>\n",
       "      <td>0.132774</td>\n",
       "    </tr>\n",
       "  </tbody>\n",
       "</table>\n",
       "<p>245 rows × 4 columns</p>\n",
       "</div>"
      ],
      "text/plain": [
       "            Pct_Infl   Pct_GDP   Pct_Vel    Pct_M2\n",
       "DATE                                              \n",
       "1959-04-01  0.001725  0.022564  0.009024  0.014939\n",
       "1959-07-01  0.005165  0.000712 -0.008944  0.013578\n",
       "1959-10-01  0.006052  0.002850  0.003384  0.003490\n",
       "1960-01-01  0.000908  0.022473  0.021360  0.005273\n",
       "1960-04-01  0.006010 -0.005394 -0.011007  0.008035\n",
       "...              ...       ...       ...       ...\n",
       "2019-04-01  0.007483  0.003707 -0.003427  0.013474\n",
       "2019-07-01  0.004522  0.006369 -0.008253  0.018700\n",
       "2019-10-01  0.005882  0.005862 -0.010402  0.019853\n",
       "2020-01-01  0.003007 -0.012627 -0.032235  0.024740\n",
       "2020-04-01 -0.008944 -0.094947 -0.205648  0.132774\n",
       "\n",
       "[245 rows x 4 columns]"
      ]
     },
     "execution_count": 31,
     "metadata": {},
     "output_type": "execute_result"
    }
   ],
   "source": [
    "df"
   ]
  },
  {
   "cell_type": "markdown",
   "metadata": {},
   "source": [
    "We want to aggregate our data in yearly form, but firstly we need to ensure the data are correct. Taking the product of each quarter (Ie. 0.001725 * 0.005165 * 0.006052 ) will lead to an incorrect solution. We need to add a 1 to the data, below I use a function called annualize. \n",
    "\n",
    "Lambda functions confused me initially when learning Python. Lambda functions are just 1 line functions. I Commented out the in markdown below. \n"
   ]
  },
  {
   "cell_type": "code",
   "execution_count": 156,
   "metadata": {},
   "outputs": [],
   "source": [
    "#def annualize(x):\n",
    "    #return x + 1\n",
    "    \n",
    "# Is the same as\n",
    "\n",
    "#annualize = lambda x: x + 1"
   ]
  },
  {
   "cell_type": "code",
   "execution_count": 152,
   "metadata": {},
   "outputs": [],
   "source": [
    "annualize = lambda x: x + 1\n",
    "df = df.applymap(annualize) #applymap is a transformation conducted to all elements"
   ]
  },
  {
   "cell_type": "code",
   "execution_count": 33,
   "metadata": {},
   "outputs": [],
   "source": [
    "dfyear = df.groupby(df.index.year).prod() #Taking the product"
   ]
  },
  {
   "cell_type": "code",
   "execution_count": 34,
   "metadata": {},
   "outputs": [],
   "source": [
    "dfyear = dfyear.applymap(lambda x: x -1) #Subtracting off the 1 we originally had"
   ]
  },
  {
   "cell_type": "markdown",
   "metadata": {},
   "source": [
    "Alas, we now have data on an annual basis. I back checked this data with St Louis FRED and the numbers were the same. "
   ]
  },
  {
   "cell_type": "code",
   "execution_count": 155,
   "metadata": {},
   "outputs": [
    {
     "data": {
      "text/html": [
       "<div>\n",
       "<style scoped>\n",
       "    .dataframe tbody tr th:only-of-type {\n",
       "        vertical-align: middle;\n",
       "    }\n",
       "\n",
       "    .dataframe tbody tr th {\n",
       "        vertical-align: top;\n",
       "    }\n",
       "\n",
       "    .dataframe thead th {\n",
       "        text-align: right;\n",
       "    }\n",
       "</style>\n",
       "<table border=\"1\" class=\"dataframe\">\n",
       "  <thead>\n",
       "    <tr style=\"text-align: right;\">\n",
       "      <th></th>\n",
       "      <th>Pct_Infl</th>\n",
       "      <th>Pct_GDP</th>\n",
       "      <th>Pct_Vel</th>\n",
       "      <th>Pct_M2</th>\n",
       "    </tr>\n",
       "    <tr>\n",
       "      <th>DATE</th>\n",
       "      <th></th>\n",
       "      <th></th>\n",
       "      <th></th>\n",
       "      <th></th>\n",
       "    </tr>\n",
       "  </thead>\n",
       "  <tbody>\n",
       "    <tr>\n",
       "      <th>1959</th>\n",
       "      <td>0.012991</td>\n",
       "      <td>0.026209</td>\n",
       "      <td>0.003384</td>\n",
       "      <td>0.032310</td>\n",
       "    </tr>\n",
       "    <tr>\n",
       "      <th>1960</th>\n",
       "      <td>0.013960</td>\n",
       "      <td>0.008818</td>\n",
       "      <td>-0.023609</td>\n",
       "      <td>0.046444</td>\n",
       "    </tr>\n",
       "    <tr>\n",
       "      <th>1961</th>\n",
       "      <td>0.007052</td>\n",
       "      <td>0.063958</td>\n",
       "      <td>0.002879</td>\n",
       "      <td>0.072041</td>\n",
       "    </tr>\n",
       "    <tr>\n",
       "      <th>1962</th>\n",
       "      <td>0.013004</td>\n",
       "      <td>0.043070</td>\n",
       "      <td>-0.023536</td>\n",
       "      <td>0.079700</td>\n",
       "    </tr>\n",
       "    <tr>\n",
       "      <th>1963</th>\n",
       "      <td>0.013935</td>\n",
       "      <td>0.051583</td>\n",
       "      <td>-0.017049</td>\n",
       "      <td>0.086413</td>\n",
       "    </tr>\n",
       "  </tbody>\n",
       "</table>\n",
       "</div>"
      ],
      "text/plain": [
       "      Pct_Infl   Pct_GDP   Pct_Vel    Pct_M2\n",
       "DATE                                        \n",
       "1959  0.012991  0.026209  0.003384  0.032310\n",
       "1960  0.013960  0.008818 -0.023609  0.046444\n",
       "1961  0.007052  0.063958  0.002879  0.072041\n",
       "1962  0.013004  0.043070 -0.023536  0.079700\n",
       "1963  0.013935  0.051583 -0.017049  0.086413"
      ]
     },
     "execution_count": 155,
     "metadata": {},
     "output_type": "execute_result"
    }
   ],
   "source": [
    "dfyear.head(5)"
   ]
  },
  {
   "cell_type": "markdown",
   "metadata": {},
   "source": [
    "Now lets normalize the data for PCA. Interpreting this data frame after this specific transformation is not as logical. \n",
    "\n",
    "For example, **Pct_Infl of 1959** equalling -0.810575 means this entry was -.81 standard deviations away from the mean value of Inflation Percentage. "
   ]
  },
  {
   "cell_type": "code",
   "execution_count": 36,
   "metadata": {},
   "outputs": [
    {
     "data": {
      "text/html": [
       "<div>\n",
       "<style scoped>\n",
       "    .dataframe tbody tr th:only-of-type {\n",
       "        vertical-align: middle;\n",
       "    }\n",
       "\n",
       "    .dataframe tbody tr th {\n",
       "        vertical-align: top;\n",
       "    }\n",
       "\n",
       "    .dataframe thead th {\n",
       "        text-align: right;\n",
       "    }\n",
       "</style>\n",
       "<table border=\"1\" class=\"dataframe\">\n",
       "  <thead>\n",
       "    <tr style=\"text-align: right;\">\n",
       "      <th></th>\n",
       "      <th>Pct_Infl</th>\n",
       "      <th>Pct_GDP</th>\n",
       "      <th>Pct_Vel</th>\n",
       "      <th>Pct_M2</th>\n",
       "    </tr>\n",
       "    <tr>\n",
       "      <th>DATE</th>\n",
       "      <th></th>\n",
       "      <th></th>\n",
       "      <th></th>\n",
       "      <th></th>\n",
       "    </tr>\n",
       "  </thead>\n",
       "  <tbody>\n",
       "    <tr>\n",
       "      <th>1959</th>\n",
       "      <td>-0.810575</td>\n",
       "      <td>-0.074875</td>\n",
       "      <td>0.249296</td>\n",
       "      <td>-1.220783</td>\n",
       "    </tr>\n",
       "    <tr>\n",
       "      <th>1960</th>\n",
       "      <td>-0.776684</td>\n",
       "      <td>-0.698687</td>\n",
       "      <td>-0.410721</td>\n",
       "      <td>-0.751680</td>\n",
       "    </tr>\n",
       "    <tr>\n",
       "      <th>1961</th>\n",
       "      <td>-1.018465</td>\n",
       "      <td>1.279143</td>\n",
       "      <td>0.236934</td>\n",
       "      <td>0.097924</td>\n",
       "    </tr>\n",
       "    <tr>\n",
       "      <th>1962</th>\n",
       "      <td>-0.810126</td>\n",
       "      <td>0.529918</td>\n",
       "      <td>-0.408945</td>\n",
       "      <td>0.352128</td>\n",
       "    </tr>\n",
       "    <tr>\n",
       "      <th>1963</th>\n",
       "      <td>-0.777567</td>\n",
       "      <td>0.835257</td>\n",
       "      <td>-0.250319</td>\n",
       "      <td>0.574936</td>\n",
       "    </tr>\n",
       "    <tr>\n",
       "      <th>...</th>\n",
       "      <td>...</td>\n",
       "      <td>...</td>\n",
       "      <td>...</td>\n",
       "      <td>...</td>\n",
       "    </tr>\n",
       "    <tr>\n",
       "      <th>2016</th>\n",
       "      <td>-0.635682</td>\n",
       "      <td>-0.273349</td>\n",
       "      <td>-0.681669</td>\n",
       "      <td>0.123506</td>\n",
       "    </tr>\n",
       "    <tr>\n",
       "      <th>2017</th>\n",
       "      <td>-0.523018</td>\n",
       "      <td>-0.045308</td>\n",
       "      <td>0.132754</td>\n",
       "      <td>-0.669639</td>\n",
       "    </tr>\n",
       "    <tr>\n",
       "      <th>2018</th>\n",
       "      <td>-0.494173</td>\n",
       "      <td>-0.127024</td>\n",
       "      <td>0.504979</td>\n",
       "      <td>-1.143578</td>\n",
       "    </tr>\n",
       "    <tr>\n",
       "      <th>2019</th>\n",
       "      <td>-0.554054</td>\n",
       "      <td>-0.176034</td>\n",
       "      <td>-0.467688</td>\n",
       "      <td>-0.064886</td>\n",
       "    </tr>\n",
       "    <tr>\n",
       "      <th>2020</th>\n",
       "      <td>-1.474003</td>\n",
       "      <td>-4.830561</td>\n",
       "      <td>-5.487973</td>\n",
       "      <td>3.043877</td>\n",
       "    </tr>\n",
       "  </tbody>\n",
       "</table>\n",
       "<p>62 rows × 4 columns</p>\n",
       "</div>"
      ],
      "text/plain": [
       "      Pct_Infl   Pct_GDP   Pct_Vel    Pct_M2\n",
       "DATE                                        \n",
       "1959 -0.810575 -0.074875  0.249296 -1.220783\n",
       "1960 -0.776684 -0.698687 -0.410721 -0.751680\n",
       "1961 -1.018465  1.279143  0.236934  0.097924\n",
       "1962 -0.810126  0.529918 -0.408945  0.352128\n",
       "1963 -0.777567  0.835257 -0.250319  0.574936\n",
       "...        ...       ...       ...       ...\n",
       "2016 -0.635682 -0.273349 -0.681669  0.123506\n",
       "2017 -0.523018 -0.045308  0.132754 -0.669639\n",
       "2018 -0.494173 -0.127024  0.504979 -1.143578\n",
       "2019 -0.554054 -0.176034 -0.467688 -0.064886\n",
       "2020 -1.474003 -4.830561 -5.487973  3.043877\n",
       "\n",
       "[62 rows x 4 columns]"
      ]
     },
     "execution_count": 36,
     "metadata": {},
     "output_type": "execute_result"
    }
   ],
   "source": [
    "normalized_dfyear=(dfyear-dfyear.mean())/dfyear.std()\n",
    "normalized_dfyear.head(5)"
   ]
  },
  {
   "cell_type": "markdown",
   "metadata": {},
   "source": [
    "# Using Principal Component Analysis for Interpretation"
   ]
  },
  {
   "cell_type": "code",
   "execution_count": 38,
   "metadata": {},
   "outputs": [
    {
     "name": "stdout",
     "output_type": "stream",
     "text": [
      "[0.5004513  0.27487072]\n"
     ]
    }
   ],
   "source": [
    "from sklearn.decomposition import PCA\n",
    "    \n",
    "pca = PCA(n_components=2)\n",
    "pca.fit(normalized_dfyear)\n",
    "print(pca.explained_variance_ratio_)"
   ]
  },
  {
   "cell_type": "markdown",
   "metadata": {},
   "source": [
    "## Principal Component Analysis biplot"
   ]
  },
  {
   "cell_type": "markdown",
   "metadata": {},
   "source": [
    "I found myself a bit confused with PCA when I was first introduced to the subject. Although one part which demystified a lot of the mathematics behind it was the biplot. The biplot displays typically 2 parts, which are the *principal component loadings* and *principal component scores*, this plot can explain quite a bit in terms of observations and variable variations. Unfortunately, there are no packages which support an easy use of the biplot so the code for this particular plot can look a bit daunting. Below is an explanation of the code \n",
    "\n",
    "For a better explanation, I reccomend giving **\"An Introduction to Statistical Learning\" by Gareth James, Daniela Witten, Trevor Hastie and Robert Tibshirani a read. Specifically, Page 373-385**\n",
    "\n",
    "Link: http://faculty.marshall.usc.edu/gareth-james/ISL/"
   ]
  },
  {
   "cell_type": "code",
   "execution_count": 135,
   "metadata": {},
   "outputs": [
    {
     "data": {
      "image/png": "[encoded data removed]",
      "text/plain": [
       "<Figure size 1440x720 with 1 Axes>"
      ]
     },
     "metadata": {
      "needs_background": "light"
     },
     "output_type": "display_data"
    },
    {
     "data": {
      "text/plain": [
       "<Figure size 7200x3600 with 0 Axes>"
      ]
     },
     "metadata": {},
     "output_type": "display_data"
    }
   ],
   "source": [
    "plt.figure(figsize=(20,10))\n",
    "\n",
    "xvector = pca.components_[0] \n",
    "yvector = pca.components_[1]\n",
    "\n",
    "xs = pca.transform(normalized_dfyear)[:,0] \n",
    "ys = pca.transform(normalized_dfyear)[:,1]\n",
    "\n",
    "plt.xlim((-5,10))\n",
    "plt.ylim((-5,5))\n",
    "plt.xlabel(f'PC 1: {round(pca.explained_variance_ratio_[0], 3) * 100} % explained')\n",
    "plt.ylabel(f'PC 2: {round(pca.explained_variance_ratio_[1], 2) * 100} % explained')\n",
    "plt.title('All Principal Component Loadings and Scores')\n",
    "\n",
    "\n",
    "for i in range(len(xvector)):\n",
    "    plt.arrow(0, 0, xvector[i]*4, yvector[i]*4,\n",
    "              color='r', width=0.0005, head_width=0.125)\n",
    "    plt.text(xvector[i]*5, yvector[i]*5,\n",
    "             list(normalized_dfyear.columns.values)[i], color='r',horizontalalignment = 'right', verticalalignment = 'top')\n",
    "\n",
    "for i in range(len(xs)):\n",
    "    plt.plot(xs[i], ys[i], 'bo',)\n",
    "    plt.text(xs[i]*1.2, ys[i]*1.2, list(normalized_dfyear.index)[i], color='b')\n",
    "\n",
    "plt.figure(figsize=(100,50))\n",
    "plt.show();"
   ]
  },
  {
   "cell_type": "markdown",
   "metadata": {},
   "source": [
    "This plot is a bit messy with observations, lets look at observations with high scores in either principal component. To simplify, lets find observations where on the X or Y axis, they exceed a certain threshold. Let's use |2.5|. "
   ]
  },
  {
   "cell_type": "code",
   "execution_count": 134,
   "metadata": {},
   "outputs": [
    {
     "data": {
      "image/png": "[encoded data removed]",
      "text/plain": [
       "<Figure size 1440x720 with 1 Axes>"
      ]
     },
     "metadata": {
      "needs_background": "light"
     },
     "output_type": "display_data"
    },
    {
     "data": {
      "text/plain": [
       "<Figure size 7200x3600 with 0 Axes>"
      ]
     },
     "metadata": {},
     "output_type": "display_data"
    }
   ],
   "source": [
    "plt.figure(figsize=(20,10))\n",
    "\n",
    "xvector = pca.components_[0] \n",
    "yvector = pca.components_[1]\n",
    "\n",
    "xs = pca.transform(normalized_dfyear)[:,0] \n",
    "ys = pca.transform(normalized_dfyear)[:,1]\n",
    "\n",
    "plt.xlim((-5,10))\n",
    "plt.ylim((-5,5))\n",
    "plt.xlabel(f'PC 1: {round(pca.explained_variance_ratio_[0], 3) * 100} % explained')\n",
    "plt.ylabel(f'PC 2: {round(pca.explained_variance_ratio_[1], 2) * 100} % explained')\n",
    "plt.title('Large Scores')\n",
    "\n",
    "\n",
    "for i in range(len(xvector)):\n",
    "    plt.arrow(0, 0, xvector[i]*4, yvector[i]*4,\n",
    "              color='r', width=0.0005, head_width=0.125)\n",
    "    plt.text(xvector[i]*5, yvector[i]*5,\n",
    "             list(normalized_dfyear.columns.values)[i], color='r',horizontalalignment = 'right', verticalalignment = 'top')\n",
    "\n",
    "for i in range(len(xs)):\n",
    "    if ys[i] > abs(2.5) or xs[i] > abs(2.5):\n",
    "        plt.plot(xs[i], ys[i], 'bo',)\n",
    "        plt.text(xs[i]*1.2, ys[i]*1.2, list(normalized_dfyear.index)[i], color='b')\n",
    "\n",
    "plt.figure(figsize=(100,50))\n",
    "plt.show();"
   ]
  },
  {
   "cell_type": "markdown",
   "metadata": {},
   "source": [
    "### Interpretation"
   ]
  },
  {
   "cell_type": "code",
   "execution_count": null,
   "metadata": {},
   "outputs": [],
   "source": []
  }
 ],
 "metadata": {
  "kernelspec": {
   "display_name": "Python 3",
   "language": "python",
   "name": "python3"
  },
  "language_info": {
   "codemirror_mode": {
    "name": "ipython",
    "version": 3
   },
   "file_extension": ".py",
   "mimetype": "text/x-python",
   "name": "python",
   "nbconvert_exporter": "python",
   "pygments_lexer": "ipython3",
   "version": "3.7.3"
  }
 },
 "nbformat": 4,
 "nbformat_minor": 2
}
